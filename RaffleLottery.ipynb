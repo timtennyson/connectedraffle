{
 "cells": [
  {
   "cell_type": "code",
   "execution_count": 18,
   "id": "86c30309-5efb-46ab-a828-a0fce94cada1",
   "metadata": {},
   "outputs": [],
   "source": [
    "import web3\n",
    "from web3 import Web3"
   ]
  },
  {
   "cell_type": "code",
   "execution_count": 19,
   "id": "10b8c5ec-e83e-4698-8f99-676901d640bb",
   "metadata": {},
   "outputs": [],
   "source": [
    "# Old Ganache Server w3=Web3(web3.HTTPProvider('http://127.0.0.1:7545'))\n",
    "#New Ganache Server:\n",
    "w3=Web3(web3.HTTPProvider('http://127.0.0.1:8545'))"
   ]
  },
  {
   "cell_type": "code",
   "execution_count": 48,
   "id": "c2861c8d-1382-4f4f-83e8-da69baf2b699",
   "metadata": {},
   "outputs": [
    {
     "data": {
      "text/plain": [
       "['0x64cD1A4e907A490099235a4a3E98ae33B3D4eDe0',\n",
       " '0x6ca9bC89e49Df5102C460fB5EBc5b4DB73322454',\n",
       " '0x9E661D46806CaE8F92b6c2A0372A7B34dee78Fa9',\n",
       " '0x7c2F21a35391315f67C91881a4cCC2bCcf8F8F0E',\n",
       " '0x0529A1bE2420c327C62cC4849fdEC140e7052A88',\n",
       " '0x75d2CcEF54B15cAD4dF3E42a85116f69bCC45A6A',\n",
       " '0x6fc44716e9Ba6a67Bc3a8942aCD814D360f541d3',\n",
       " '0xcDAA8F9825bAF16dE07419fC7c3799ad610fD333',\n",
       " '0x513A13f17057C689E1232B89E3eeE88D2B1e5c8E',\n",
       " '0x749c7D298933C182fd19251EC72716e675dD47D9']"
      ]
     },
     "execution_count": 48,
     "metadata": {},
     "output_type": "execute_result"
    }
   ],
   "source": [
    "w3.eth.accounts"
   ]
  },
  {
   "cell_type": "code",
   "execution_count": 49,
   "id": "ff673215-a519-44b6-82a5-cdee2cf303c7",
   "metadata": {},
   "outputs": [],
   "source": [
    "# Old Contract Address, New Contract Address\n",
    "# contract_address='0x4e4D485c8B48BFC3e18460b6570CCA7435A43d92'\n",
    "contract_address='0x7912bd9E742a81c620FF0FcF1A9Dc6b9De543f69'"
   ]
  },
  {
   "cell_type": "code",
   "execution_count": 40,
   "id": "e93188ff-fe3b-42ae-a60d-0ff1b524a6d5",
   "metadata": {},
   "outputs": [],
   "source": [
    "import json\n",
    "with open('contract_abi.txt') as f: \n",
    "    contract_abi=json.load(f)"
   ]
  },
  {
   "cell_type": "code",
   "execution_count": 41,
   "id": "e17731ee-7c2c-4ae9-a98b-cc9414b10cfa",
   "metadata": {},
   "outputs": [],
   "source": [
    "raffle_contract=w3.eth.contract(address=contract_address, abi=contract_abi)"
   ]
  },
  {
   "cell_type": "code",
   "execution_count": 42,
   "id": "6df2e6f7-ab24-40ca-ba88-97905d33d966",
   "metadata": {},
   "outputs": [
    {
     "data": {
      "text/plain": [
       "'0x6ca9bC89e49Df5102C460fB5EBc5b4DB73322454'"
      ]
     },
     "execution_count": 42,
     "metadata": {},
     "output_type": "execute_result"
    }
   ],
   "source": [
    "raffle_contract.functions.house().call()"
   ]
  },
  {
   "cell_type": "code",
   "execution_count": 43,
   "id": "576e61c5-22d9-4dfb-aeb3-372a7951138f",
   "metadata": {},
   "outputs": [
    {
     "data": {
      "text/plain": [
       "3"
      ]
     },
     "execution_count": 43,
     "metadata": {},
     "output_type": "execute_result"
    }
   ],
   "source": [
    "raffle_contract.functions.getLength().call()"
   ]
  },
  {
   "cell_type": "code",
   "execution_count": 44,
   "id": "d56a2ac6-e06f-40f5-a4b9-6745a31be780",
   "metadata": {},
   "outputs": [],
   "source": [
    "value_wei=w3.toWei(1, 'ether')"
   ]
  },
  {
   "cell_type": "code",
   "execution_count": 46,
   "id": "78796b6f-f533-4f86-8786-a7e2cd41adfe",
   "metadata": {},
   "outputs": [
    {
     "data": {
      "text/plain": [
       "HexBytes('0x9146577b7572f238839b6ab49ffde56cbd8c992260fc664070dbb7ed026e6db2')"
      ]
     },
     "execution_count": 46,
     "metadata": {},
     "output_type": "execute_result"
    }
   ],
   "source": [
    "# why didn't it ask me to sign? \n",
    "#Old address: value transaction={'from': '0x1aD214821F407698A3452fAa173D5067729Be983', 'value': value_wei}\n",
    "transaction={'from': '0x64cD1A4e907A490099235a4a3E98ae33B3D4eDe0', 'value': value_wei}\n",
    "raffle_contract.functions.enter().transact(transaction)\n",
    "\n",
    "# when using Ganache, the 10 accounts are \"checked-in\""
   ]
  },
  {
   "cell_type": "code",
   "execution_count": 47,
   "id": "33711041-72fb-48f4-a0d3-dc7739bfe45b",
   "metadata": {},
   "outputs": [
    {
     "ename": "NameError",
     "evalue": "name 'st' is not defined",
     "output_type": "error",
     "traceback": [
      "\u001b[1;31m---------------------------------------------------------------------------\u001b[0m",
      "\u001b[1;31mNameError\u001b[0m                                 Traceback (most recent call last)",
      "\u001b[1;32m~\\AppData\\Local\\Temp/ipykernel_32308/1691964593.py\u001b[0m in \u001b[0;36m<module>\u001b[1;34m\u001b[0m\n\u001b[1;32m----> 1\u001b[1;33m \u001b[1;32mif\u001b[0m \u001b[0mst\u001b[0m\u001b[1;33m.\u001b[0m\u001b[0mbutton\u001b[0m\u001b[1;33m(\u001b[0m\u001b[1;34m'Click to Enter'\u001b[0m\u001b[1;33m)\u001b[0m\u001b[1;33m:\u001b[0m\u001b[1;33m\u001b[0m\u001b[1;33m\u001b[0m\u001b[0m\n\u001b[0m\u001b[0;32m      2\u001b[0m     \u001b[1;31m# solicit user account\u001b[0m\u001b[1;33m\u001b[0m\u001b[1;33m\u001b[0m\u001b[1;33m\u001b[0m\u001b[0m\n\u001b[0;32m      3\u001b[0m     \u001b[1;31m# solicit user skey\u001b[0m\u001b[1;33m\u001b[0m\u001b[1;33m\u001b[0m\u001b[1;33m\u001b[0m\u001b[0m\n\u001b[0;32m      4\u001b[0m     \u001b[0mtransaction\u001b[0m\u001b[1;33m=\u001b[0m\u001b[1;33m{\u001b[0m\u001b[1;34m'from'\u001b[0m\u001b[1;33m:\u001b[0m \u001b[0muser_account\u001b[0m\u001b[1;33m,\u001b[0m \u001b[1;34m'value'\u001b[0m\u001b[1;33m:\u001b[0m \u001b[0mvalue_wei\u001b[0m\u001b[1;33m}\u001b[0m\u001b[1;33m\u001b[0m\u001b[1;33m\u001b[0m\u001b[0m\n\u001b[0;32m      5\u001b[0m     \u001b[0mraffle_contract\u001b[0m\u001b[1;33m.\u001b[0m\u001b[0mfunctions\u001b[0m\u001b[1;33m.\u001b[0m\u001b[0menter\u001b[0m\u001b[1;33m(\u001b[0m\u001b[1;33m)\u001b[0m\u001b[1;33m.\u001b[0m\u001b[0mtransact\u001b[0m\u001b[1;33m(\u001b[0m\u001b[0mtransaction\u001b[0m\u001b[1;33m)\u001b[0m\u001b[1;33m\u001b[0m\u001b[1;33m\u001b[0m\u001b[0m\n",
      "\u001b[1;31mNameError\u001b[0m: name 'st' is not defined"
     ]
    }
   ],
   "source": [
    "if st.button('Click to Enter'): \n",
    "    # solicit user account\n",
    "    # solicit user skey\n",
    "    transaction={'from': user_account, 'value': value_wei}\n",
    "    raffle_contract.functions.enter().transact(transaction)"
   ]
  },
  {
   "cell_type": "code",
   "execution_count": null,
   "id": "7e64d963-36b6-4940-b6f0-cc4499f47c4a",
   "metadata": {},
   "outputs": [],
   "source": []
  }
 ],
 "metadata": {
  "kernelspec": {
   "display_name": "Python (dev)",
   "language": "python",
   "name": "dev"
  },
  "language_info": {
   "codemirror_mode": {
    "name": "ipython",
    "version": 3
   },
   "file_extension": ".py",
   "mimetype": "text/x-python",
   "name": "python",
   "nbconvert_exporter": "python",
   "pygments_lexer": "ipython3",
   "version": "3.7.11"
  }
 },
 "nbformat": 4,
 "nbformat_minor": 5
}
