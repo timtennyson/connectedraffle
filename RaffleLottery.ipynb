{
 "cells": [
  {
   "cell_type": "code",
   "execution_count": 2,
   "id": "86c30309-5efb-46ab-a828-a0fce94cada1",
   "metadata": {},
   "outputs": [],
   "source": [
    "import web3\n",
    "from web3 import Web3"
   ]
  },
  {
   "cell_type": "code",
   "execution_count": 3,
   "id": "10b8c5ec-e83e-4698-8f99-676901d640bb",
   "metadata": {},
   "outputs": [],
   "source": [
    "w3=Web3(web3.HTTPProvider('http://127.0.0.1:7545'))"
   ]
  },
  {
   "cell_type": "code",
   "execution_count": 5,
   "id": "c2861c8d-1382-4f4f-83e8-da69baf2b699",
   "metadata": {},
   "outputs": [
    {
     "data": {
      "text/plain": [
       "['0x1aD214821F407698A3452fAa173D5067729Be983',\n",
       " '0x6c275dB41477db828c0E382fC5cF2a863a5e012C',\n",
       " '0xfE2aDc691f8675532cCAa3D6A84AE70ff5058418',\n",
       " '0xfC0d0E18567C4356470bBc021223aD00b36d3743',\n",
       " '0xeBd93AD49734c8466a6cDed6A495F1cD7a57c3A5',\n",
       " '0x27eEd05359aFa4c1EE34C5C1e8a9f7D12e4ff1f4',\n",
       " '0xDd922044a29c4f53233E3CaE80265f48790e53cD',\n",
       " '0xc8899AD05D59f267ef218F59539b2dC473e6D6C6',\n",
       " '0x2C0F1FB895fa75cC0CA4Ef9D02b27AbafEA92907',\n",
       " '0xB20317e9df49eC7e3029DB874D4e6C9e07087b62']"
      ]
     },
     "execution_count": 5,
     "metadata": {},
     "output_type": "execute_result"
    }
   ],
   "source": [
    "w3.eth.accounts"
   ]
  },
  {
   "cell_type": "code",
   "execution_count": 6,
   "id": "ff673215-a519-44b6-82a5-cdee2cf303c7",
   "metadata": {},
   "outputs": [],
   "source": [
    "contract_address='0x4e4D485c8B48BFC3e18460b6570CCA7435A43d92'"
   ]
  },
  {
   "cell_type": "code",
   "execution_count": 7,
   "id": "e93188ff-fe3b-42ae-a60d-0ff1b524a6d5",
   "metadata": {},
   "outputs": [],
   "source": [
    "import json\n",
    "with open('contract_abi.txt') as f: \n",
    "    contract_abi=json.load(f)"
   ]
  },
  {
   "cell_type": "code",
   "execution_count": 8,
   "id": "e17731ee-7c2c-4ae9-a98b-cc9414b10cfa",
   "metadata": {},
   "outputs": [],
   "source": [
    "raffle_contract=w3.eth.contract(address=contract_address, abi=contract_abi)"
   ]
  },
  {
   "cell_type": "code",
   "execution_count": 16,
   "id": "6df2e6f7-ab24-40ca-ba88-97905d33d966",
   "metadata": {},
   "outputs": [
    {
     "data": {
      "text/plain": [
       "'0x1aD214821F407698A3452fAa173D5067729Be983'"
      ]
     },
     "execution_count": 16,
     "metadata": {},
     "output_type": "execute_result"
    }
   ],
   "source": [
    "raffle_contract.functions.house().call()"
   ]
  },
  {
   "cell_type": "code",
   "execution_count": 17,
   "id": "576e61c5-22d9-4dfb-aeb3-372a7951138f",
   "metadata": {},
   "outputs": [
    {
     "data": {
      "text/plain": [
       "1"
      ]
     },
     "execution_count": 17,
     "metadata": {},
     "output_type": "execute_result"
    }
   ],
   "source": [
    "raffle_contract.functions.getLength().call()"
   ]
  },
  {
   "cell_type": "code",
   "execution_count": 14,
   "id": "d56a2ac6-e06f-40f5-a4b9-6745a31be780",
   "metadata": {},
   "outputs": [],
   "source": [
    "value_wei=w3.toWei(1, 'ether')"
   ]
  },
  {
   "cell_type": "code",
   "execution_count": 15,
   "id": "78796b6f-f533-4f86-8786-a7e2cd41adfe",
   "metadata": {},
   "outputs": [
    {
     "data": {
      "text/plain": [
       "HexBytes('0x9dca74021c6499d0693f93ff33077a558c0acfcbf3632a8a9dc5b74678bcfc90')"
      ]
     },
     "execution_count": 15,
     "metadata": {},
     "output_type": "execute_result"
    }
   ],
   "source": [
    "# why didn't it ask me to sign? \n",
    "transaction={'from': '0x1aD214821F407698A3452fAa173D5067729Be983', 'value': value_wei}\n",
    "raffle_contract.functions.enter().transact(transaction)\n",
    "\n",
    "# when using Ganache, the 10 accounts are \"checked-in\""
   ]
  },
  {
   "cell_type": "code",
   "execution_count": null,
   "id": "33711041-72fb-48f4-a0d3-dc7739bfe45b",
   "metadata": {},
   "outputs": [],
   "source": [
    "if st.button('Click to Enter'): \n",
    "    # solicit user account\n",
    "    # solicit user skey\n",
    "    transaction={'from': user_account, 'value': value_wei}\n",
    "    raffle_contract.functions.enter().transact(transaction)"
   ]
  }
 ],
 "metadata": {
  "kernelspec": {
   "display_name": "dev",
   "language": "python",
   "name": "dev"
  },
  "language_info": {
   "codemirror_mode": {
    "name": "ipython",
    "version": 3
   },
   "file_extension": ".py",
   "mimetype": "text/x-python",
   "name": "python",
   "nbconvert_exporter": "python",
   "pygments_lexer": "ipython3",
   "version": "3.7.11"
  }
 },
 "nbformat": 4,
 "nbformat_minor": 5
}
